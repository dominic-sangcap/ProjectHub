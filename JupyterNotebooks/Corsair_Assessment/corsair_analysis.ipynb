{
 "cells": [
  {
   "cell_type": "markdown",
   "metadata": {},
   "source": [
    "# Corsair Assessment Part 2 \n",
    "<p>This is an anlaysis of Mock Corsair Data. I will be using Python and Juypter Notebooks to showcase my findings.\n",
    "<br>\n",
    "Noteable Expored Concepts:\n",
    "<br>\n",
    "1. Return Correlation\n",
    "<br>\n",
    "2. Regional Sales\n",
    "<br>\n",
    "3. Data I would want to collect\n",
    "</p>\n"
   ]
  },
  {
   "cell_type": "code",
   "execution_count": 1,
   "metadata": {},
   "outputs": [],
   "source": [
    "#import packages\n",
    "import pandas as pd\n",
    "import numpy as np\n",
    "import seaborn as sns\n",
    "\n",
    "import matplotlib.pyplot as plt\n",
    "import matplotlib.mlab as mlab\n",
    "import matplotlib\n",
    "plt.style.use('ggplot')\n",
    "from matplotlib.pyplot import figure\n",
    "\n",
    "pd.options.mode.chained_assignment = None"
   ]
  },
  {
   "cell_type": "code",
   "execution_count": 44,
   "metadata": {},
   "outputs": [],
   "source": [
    "#read xlsx file\n",
    "df = pd.read_csv(\"CorsairData - BI_Dashboard.csv\")"
   ]
  },
  {
   "cell_type": "code",
   "execution_count": 45,
   "metadata": {},
   "outputs": [
    {
     "data": {
      "text/html": [
       "<div>\n",
       "<style scoped>\n",
       "    .dataframe tbody tr th:only-of-type {\n",
       "        vertical-align: middle;\n",
       "    }\n",
       "\n",
       "    .dataframe tbody tr th {\n",
       "        vertical-align: top;\n",
       "    }\n",
       "\n",
       "    .dataframe thead th {\n",
       "        text-align: right;\n",
       "    }\n",
       "</style>\n",
       "<table border=\"1\" class=\"dataframe\">\n",
       "  <thead>\n",
       "    <tr style=\"text-align: right;\">\n",
       "      <th></th>\n",
       "      <th>SalesOrderNumber</th>\n",
       "      <th>FiscalYear</th>\n",
       "      <th>FiscalQuarter</th>\n",
       "      <th>SalesTerritoryRegion</th>\n",
       "      <th>ProductCategoryName</th>\n",
       "      <th>ProductSubcategoryName</th>\n",
       "      <th>ProductGroupName</th>\n",
       "      <th>OrderStatus</th>\n",
       "      <th>OrderQuantity</th>\n",
       "      <th>UnitPrice</th>\n",
       "      <th>Profit</th>\n",
       "      <th>SalesAmount</th>\n",
       "      <th>Return</th>\n",
       "    </tr>\n",
       "  </thead>\n",
       "  <tbody>\n",
       "    <tr>\n",
       "      <th>0</th>\n",
       "      <td>SO44243</td>\n",
       "      <td>2012</td>\n",
       "      <td>1</td>\n",
       "      <td>China</td>\n",
       "      <td>Gaming Gear</td>\n",
       "      <td>Apparel</td>\n",
       "      <td>Accessories</td>\n",
       "      <td>Shipped</td>\n",
       "      <td>1</td>\n",
       "      <td>20.99</td>\n",
       "      <td>$17.98</td>\n",
       "      <td>$20.99</td>\n",
       "      <td>False</td>\n",
       "    </tr>\n",
       "    <tr>\n",
       "      <th>1</th>\n",
       "      <td>SO43808</td>\n",
       "      <td>2012</td>\n",
       "      <td>1</td>\n",
       "      <td>Germany</td>\n",
       "      <td>Gaming Gear</td>\n",
       "      <td>Apparel</td>\n",
       "      <td>Accessories</td>\n",
       "      <td>Shipped</td>\n",
       "      <td>1</td>\n",
       "      <td>20.99</td>\n",
       "      <td>$17.98</td>\n",
       "      <td>$20.99</td>\n",
       "      <td>False</td>\n",
       "    </tr>\n",
       "    <tr>\n",
       "      <th>2</th>\n",
       "      <td>SO44204</td>\n",
       "      <td>2012</td>\n",
       "      <td>1</td>\n",
       "      <td>Southwest</td>\n",
       "      <td>PC Components</td>\n",
       "      <td>CPU Coolers</td>\n",
       "      <td>Air Coolers</td>\n",
       "      <td>Shipped</td>\n",
       "      <td>1</td>\n",
       "      <td>99.99</td>\n",
       "      <td>$21.41</td>\n",
       "      <td>$99.99</td>\n",
       "      <td>False</td>\n",
       "    </tr>\n",
       "    <tr>\n",
       "      <th>3</th>\n",
       "      <td>SO44173</td>\n",
       "      <td>2012</td>\n",
       "      <td>1</td>\n",
       "      <td>United Kingdom</td>\n",
       "      <td>PC Components</td>\n",
       "      <td>CPU Coolers</td>\n",
       "      <td>Air Coolers</td>\n",
       "      <td>Shipped</td>\n",
       "      <td>1</td>\n",
       "      <td>99.99</td>\n",
       "      <td>$21.41</td>\n",
       "      <td>$99.99</td>\n",
       "      <td>False</td>\n",
       "    </tr>\n",
       "    <tr>\n",
       "      <th>4</th>\n",
       "      <td>SO43750</td>\n",
       "      <td>2012</td>\n",
       "      <td>1</td>\n",
       "      <td>Australia</td>\n",
       "      <td>Gaming Gear</td>\n",
       "      <td>Apparel</td>\n",
       "      <td>Apparel</td>\n",
       "      <td>Shipped</td>\n",
       "      <td>1</td>\n",
       "      <td>24.99</td>\n",
       "      <td>$8.39</td>\n",
       "      <td>$24.99</td>\n",
       "      <td>False</td>\n",
       "    </tr>\n",
       "  </tbody>\n",
       "</table>\n",
       "</div>"
      ],
      "text/plain": [
       "  SalesOrderNumber  FiscalYear  FiscalQuarter SalesTerritoryRegion  \\\n",
       "0          SO44243        2012              1                China   \n",
       "1          SO43808        2012              1              Germany   \n",
       "2          SO44204        2012              1            Southwest   \n",
       "3          SO44173        2012              1       United Kingdom   \n",
       "4          SO43750        2012              1            Australia   \n",
       "\n",
       "  ProductCategoryName ProductSubcategoryName ProductGroupName OrderStatus  \\\n",
       "0         Gaming Gear                Apparel      Accessories     Shipped   \n",
       "1         Gaming Gear                Apparel      Accessories     Shipped   \n",
       "2       PC Components            CPU Coolers      Air Coolers     Shipped   \n",
       "3       PC Components            CPU Coolers      Air Coolers     Shipped   \n",
       "4         Gaming Gear                Apparel          Apparel     Shipped   \n",
       "\n",
       "   OrderQuantity  UnitPrice   Profit SalesAmount  Return  \n",
       "0              1      20.99  $17.98      $20.99    False  \n",
       "1              1      20.99  $17.98      $20.99    False  \n",
       "2              1      99.99  $21.41      $99.99    False  \n",
       "3              1      99.99  $21.41      $99.99    False  \n",
       "4              1      24.99   $8.39      $24.99    False  "
      ]
     },
     "execution_count": 45,
     "metadata": {},
     "output_type": "execute_result"
    }
   ],
   "source": [
    "#check if working\n",
    "df.head()"
   ]
  },
  {
   "cell_type": "code",
   "execution_count": 57,
   "metadata": {},
   "outputs": [
    {
     "data": {
      "text/plain": [
       "China             1899\n",
       "Southwest          969\n",
       "Northwest          653\n",
       "United Kingdom     570\n",
       "Germany            501\n",
       "Australia          494\n",
       "Canada             337\n",
       "Southeast            3\n",
       "Central              1\n",
       "Northeast            1\n",
       "Name: SalesTerritoryRegion, dtype: int64"
      ]
     },
     "execution_count": 57,
     "metadata": {},
     "output_type": "execute_result"
    }
   ],
   "source": [
    "#unique countries\n",
    "df.SalesTerritoryRegion.value_counts()"
   ]
  },
  {
   "cell_type": "code",
   "execution_count": 46,
   "metadata": {},
   "outputs": [
    {
     "data": {
      "text/plain": [
       "SalesOrderNumber           object\n",
       "FiscalYear                  int64\n",
       "FiscalQuarter               int64\n",
       "SalesTerritoryRegion       object\n",
       "ProductCategoryName        object\n",
       "ProductSubcategoryName     object\n",
       "ProductGroupName           object\n",
       "OrderStatus                object\n",
       "OrderQuantity               int64\n",
       "UnitPrice                 float64\n",
       "Profit                     object\n",
       "SalesAmount                object\n",
       "Return                       bool\n",
       "dtype: object"
      ]
     },
     "execution_count": 46,
     "metadata": {},
     "output_type": "execute_result"
    }
   ],
   "source": [
    "#check datatypes\n",
    "df.dtypes"
   ]
  },
  {
   "cell_type": "code",
   "execution_count": 54,
   "metadata": {},
   "outputs": [
    {
     "data": {
      "text/plain": [
       "5428"
      ]
     },
     "execution_count": 54,
     "metadata": {},
     "output_type": "execute_result"
    }
   ],
   "source": [
    "#number of orginal entries\n",
    "df.shape[0]"
   ]
  },
  {
   "cell_type": "markdown",
   "metadata": {},
   "source": [
    "## Return Correlations\n",
    "#### Here are some general findings \n",
    "<p>\n",
    "There are 57 entries from the original file, where [Return] value is True.\n",
    "<br>\n",
    "A majority of the returns come from China, Southwest, Germany, Canada. \n",
    "Countries without returns include; Southeast, Central, Northeast(however fewest orders 3, 1, 1 respectively).\n",
    "<br>\n",
    "Most Returned items are Gaming Gear or PC Components.\n",
    "<br>\n",
    "None of the orders were backordered.\n",
    "<br>\n",
    "ProductSubcategory, ProductGroup, OrderQuantity, UnitPrice/SalesAmount are most liekely unaffecting towards return rate.\n",
    "</p>"
   ]
  },
  {
   "cell_type": "code",
   "execution_count": 47,
   "metadata": {},
   "outputs": [],
   "source": [
    "#get dataframe based on rows where return is True\n",
    "was_returned = df.loc[df['Return'] == True]"
   ]
  },
  {
   "cell_type": "code",
   "execution_count": 48,
   "metadata": {},
   "outputs": [
    {
     "data": {
      "text/html": [
       "<div>\n",
       "<style scoped>\n",
       "    .dataframe tbody tr th:only-of-type {\n",
       "        vertical-align: middle;\n",
       "    }\n",
       "\n",
       "    .dataframe tbody tr th {\n",
       "        vertical-align: top;\n",
       "    }\n",
       "\n",
       "    .dataframe thead th {\n",
       "        text-align: right;\n",
       "    }\n",
       "</style>\n",
       "<table border=\"1\" class=\"dataframe\">\n",
       "  <thead>\n",
       "    <tr style=\"text-align: right;\">\n",
       "      <th></th>\n",
       "      <th>SalesOrderNumber</th>\n",
       "      <th>FiscalYear</th>\n",
       "      <th>FiscalQuarter</th>\n",
       "      <th>SalesTerritoryRegion</th>\n",
       "      <th>ProductCategoryName</th>\n",
       "      <th>ProductSubcategoryName</th>\n",
       "      <th>ProductGroupName</th>\n",
       "      <th>OrderStatus</th>\n",
       "      <th>OrderQuantity</th>\n",
       "      <th>UnitPrice</th>\n",
       "      <th>Profit</th>\n",
       "      <th>SalesAmount</th>\n",
       "      <th>Return</th>\n",
       "    </tr>\n",
       "  </thead>\n",
       "  <tbody>\n",
       "    <tr>\n",
       "      <th>23</th>\n",
       "      <td>SO44147</td>\n",
       "      <td>2012</td>\n",
       "      <td>1</td>\n",
       "      <td>China</td>\n",
       "      <td>Streaming Gear</td>\n",
       "      <td>Audio</td>\n",
       "      <td>Audio</td>\n",
       "      <td>Shipped</td>\n",
       "      <td>1</td>\n",
       "      <td>29.99</td>\n",
       "      <td>$4.37</td>\n",
       "      <td>$29.99</td>\n",
       "      <td>True</td>\n",
       "    </tr>\n",
       "    <tr>\n",
       "      <th>68</th>\n",
       "      <td>SO44048</td>\n",
       "      <td>2012</td>\n",
       "      <td>1</td>\n",
       "      <td>China</td>\n",
       "      <td>Gaming PC</td>\n",
       "      <td>Gaming PC</td>\n",
       "      <td>Corsair One Gaming PC</td>\n",
       "      <td>Shipped</td>\n",
       "      <td>1</td>\n",
       "      <td>3499.99</td>\n",
       "      <td>$2,766.99</td>\n",
       "      <td>$3,499.99</td>\n",
       "      <td>True</td>\n",
       "    </tr>\n",
       "    <tr>\n",
       "      <th>76</th>\n",
       "      <td>SO43710</td>\n",
       "      <td>2012</td>\n",
       "      <td>1</td>\n",
       "      <td>China</td>\n",
       "      <td>PC Components</td>\n",
       "      <td>CPU Coolers</td>\n",
       "      <td>Dual Radiator Liquid Coolers</td>\n",
       "      <td>Shipped</td>\n",
       "      <td>1</td>\n",
       "      <td>169.99</td>\n",
       "      <td>$96.19</td>\n",
       "      <td>$169.99</td>\n",
       "      <td>True</td>\n",
       "    </tr>\n",
       "    <tr>\n",
       "      <th>109</th>\n",
       "      <td>SO43776</td>\n",
       "      <td>2012</td>\n",
       "      <td>1</td>\n",
       "      <td>Germany</td>\n",
       "      <td>PC Components</td>\n",
       "      <td>Fans</td>\n",
       "      <td>GRB Fans</td>\n",
       "      <td>Shipped</td>\n",
       "      <td>1</td>\n",
       "      <td>129.99</td>\n",
       "      <td>$76.34</td>\n",
       "      <td>$129.99</td>\n",
       "      <td>True</td>\n",
       "    </tr>\n",
       "    <tr>\n",
       "      <th>177</th>\n",
       "      <td>SO44068</td>\n",
       "      <td>2012</td>\n",
       "      <td>1</td>\n",
       "      <td>Germany</td>\n",
       "      <td>PC Components</td>\n",
       "      <td>Cases</td>\n",
       "      <td>Mid Tower Atx Cases</td>\n",
       "      <td>Shipped</td>\n",
       "      <td>1</td>\n",
       "      <td>149.99</td>\n",
       "      <td>$39.54</td>\n",
       "      <td>$149.99</td>\n",
       "      <td>True</td>\n",
       "    </tr>\n",
       "  </tbody>\n",
       "</table>\n",
       "</div>"
      ],
      "text/plain": [
       "    SalesOrderNumber  FiscalYear  FiscalQuarter SalesTerritoryRegion  \\\n",
       "23           SO44147        2012              1                China   \n",
       "68           SO44048        2012              1                China   \n",
       "76           SO43710        2012              1                China   \n",
       "109          SO43776        2012              1              Germany   \n",
       "177          SO44068        2012              1              Germany   \n",
       "\n",
       "    ProductCategoryName ProductSubcategoryName              ProductGroupName  \\\n",
       "23       Streaming Gear                  Audio                         Audio   \n",
       "68            Gaming PC              Gaming PC         Corsair One Gaming PC   \n",
       "76        PC Components            CPU Coolers  Dual Radiator Liquid Coolers   \n",
       "109       PC Components                   Fans                      GRB Fans   \n",
       "177       PC Components                  Cases           Mid Tower Atx Cases   \n",
       "\n",
       "    OrderStatus  OrderQuantity  UnitPrice      Profit SalesAmount  Return  \n",
       "23      Shipped              1      29.99      $4.37      $29.99     True  \n",
       "68      Shipped              1    3499.99  $2,766.99   $3,499.99     True  \n",
       "76      Shipped              1     169.99     $96.19     $169.99     True  \n",
       "109     Shipped              1     129.99     $76.34     $129.99     True  \n",
       "177     Shipped              1     149.99     $39.54     $149.99     True  "
      ]
     },
     "execution_count": 48,
     "metadata": {},
     "output_type": "execute_result"
    }
   ],
   "source": [
    "#check if succeded, then check size\n",
    "was_returned.head()\n"
   ]
  },
  {
   "cell_type": "code",
   "execution_count": 49,
   "metadata": {},
   "outputs": [
    {
     "data": {
      "text/plain": [
       "57"
      ]
     },
     "execution_count": 49,
     "metadata": {},
     "output_type": "execute_result"
    }
   ],
   "source": [
    "#check amount of returned\n",
    "was_returned.shape[0]"
   ]
  },
  {
   "cell_type": "code",
   "execution_count": 50,
   "metadata": {},
   "outputs": [
    {
     "data": {
      "text/plain": [
       "China             20\n",
       "Southwest         12\n",
       "Germany            9\n",
       "Canada             7\n",
       "Northwest          4\n",
       "Australia          3\n",
       "United Kingdom     2\n",
       "Name: SalesTerritoryRegion, dtype: int64"
      ]
     },
     "execution_count": 50,
     "metadata": {},
     "output_type": "execute_result"
    }
   ],
   "source": [
    "#find which countries have returned orders, and count\n",
    "was_returned.SalesTerritoryRegion.value_counts()"
   ]
  },
  {
   "cell_type": "code",
   "execution_count": 51,
   "metadata": {},
   "outputs": [
    {
     "data": {
      "text/plain": [
       "Gaming Gear       27\n",
       "PC Components     23\n",
       "Gaming PC          5\n",
       "Streaming Gear     2\n",
       "Name: ProductCategoryName, dtype: int64"
      ]
     },
     "execution_count": 51,
     "metadata": {},
     "output_type": "execute_result"
    }
   ],
   "source": [
    "#find which product_categoryname have returned orders, and count\n",
    "was_returned.ProductCategoryName.value_counts()"
   ]
  },
  {
   "cell_type": "code",
   "execution_count": 52,
   "metadata": {},
   "outputs": [
    {
     "data": {
      "text/plain": [
       "Corsair One Gaming PC                              4\n",
       "Fittings and Tubing                                3\n",
       "Cloth Surface Mouse Pads                           3\n",
       "PC Components Replacement Parts                    3\n",
       "USB Drives                                         2\n",
       "Laptop and Notebook Memory                         2\n",
       "FPS Action Gaming Mice                             2\n",
       "Apparel                                            2\n",
       "RGB Mechanical Gaming Keyboards                    2\n",
       "Performance Memory                                 2\n",
       "Gaming Chairs                                      2\n",
       "Software Control and Monitoring Cases              2\n",
       "Wireless Gaming Headsets                           2\n",
       "Wireless Gaming Mice                               2\n",
       "Stereo 3.5MM Gaming Headsets                       2\n",
       "GRB Fans                                           2\n",
       "Room Lighting                                      1\n",
       "Vengeance Gaming PC                                1\n",
       "Triple Radiator Liquid Coolers                     1\n",
       "Accessories                                        1\n",
       "Thunderbolt Docks                                  1\n",
       "Pump Reservoir Collant                             1\n",
       "Audio                                              1\n",
       "Capture                                            1\n",
       "Premium Efficiency & Electrical Performance PSU    1\n",
       "PC Case Lighting                                   1\n",
       "Hard Surface Mouse Pads                            1\n",
       "Radiators and Accessories                          1\n",
       "Pcie Gen SSDS                                      1\n",
       "M2 SSDS                                            1\n",
       "MMO Role Play Gaming Mice                          1\n",
       "Mechanical Gaming Keyboards                        1\n",
       "Moba Strategy & Action gaming Mice                 1\n",
       "Mid Tower Atx Cases                                1\n",
       "Dual Radiator Liquid Coolers                       1\n",
       "Small Form Factor Cases                            1\n",
       "Name: ProductGroupName, dtype: int64"
      ]
     },
     "execution_count": 52,
     "metadata": {},
     "output_type": "execute_result"
    }
   ],
   "source": [
    "#find which product_groupname have returned orders, and count\n",
    "was_returned.ProductGroupName.value_counts()"
   ]
  },
  {
   "cell_type": "code",
   "execution_count": 18,
   "metadata": {},
   "outputs": [
    {
     "data": {
      "text/plain": [
       "Mice                  6\n",
       "Gaming PC             5\n",
       "Custom Cooling        5\n",
       "Headsets              4\n",
       "Memory                4\n",
       "Cases                 4\n",
       "Mousepads             4\n",
       "Storage               4\n",
       "Apparel               3\n",
       "Accessories           3\n",
       "Keyboards             3\n",
       "Chairs                2\n",
       "Fans                  2\n",
       "CPU Coolers           2\n",
       "Ambient Lighting      2\n",
       "Capture               1\n",
       "Power Supply Units    1\n",
       "Thunderbolt Docks     1\n",
       "Audio                 1\n",
       "Name: ProductSubcategoryName, dtype: int64"
      ]
     },
     "execution_count": 18,
     "metadata": {},
     "output_type": "execute_result"
    }
   ],
   "source": [
    "#find which product_groupname have returned orders, and count\n",
    "was_returned.ProductSubcategoryName.value_counts()"
   ]
  },
  {
   "cell_type": "code",
   "execution_count": 19,
   "metadata": {},
   "outputs": [
    {
     "data": {
      "text/plain": [
       "2013    39\n",
       "2012    18\n",
       "Name: FiscalYear, dtype: int64"
      ]
     },
     "execution_count": 19,
     "metadata": {},
     "output_type": "execute_result"
    }
   ],
   "source": [
    "#find which product_groupname have returned orders, and count\n",
    "was_returned.FiscalYear.value_counts()"
   ]
  },
  {
   "cell_type": "code",
   "execution_count": 20,
   "metadata": {},
   "outputs": [
    {
     "data": {
      "text/plain": [
       "1    28\n",
       "2    12\n",
       "4     9\n",
       "3     8\n",
       "Name: FiscalQuarter, dtype: int64"
      ]
     },
     "execution_count": 20,
     "metadata": {},
     "output_type": "execute_result"
    }
   ],
   "source": [
    "#find which product_groupname have returned orders, and count\n",
    "was_returned.FiscalQuarter.value_counts()"
   ]
  },
  {
   "cell_type": "code",
   "execution_count": 22,
   "metadata": {},
   "outputs": [
    {
     "data": {
      "text/plain": [
       "Shipped    57\n",
       "Name: OrderStatus, dtype: int64"
      ]
     },
     "execution_count": 22,
     "metadata": {},
     "output_type": "execute_result"
    }
   ],
   "source": [
    "#find which product_groupname have returned orders, and count\n",
    "was_returned.OrderStatus.value_counts()"
   ]
  },
  {
   "cell_type": "code",
   "execution_count": 53,
   "metadata": {},
   "outputs": [
    {
     "data": {
      "text/plain": [
       "$69.99        4\n",
       "$79.99        4\n",
       "$59.99        3\n",
       "$3,499.99     3\n",
       "$99.99        3\n",
       "$184.99       2\n",
       "$159.99       2\n",
       "$179.99       2\n",
       "$214.99       2\n",
       "$399.99       2\n",
       "$299.99       2\n",
       "$26.99        2\n",
       "$49.99        2\n",
       "$39.99        2\n",
       "$119.99       2\n",
       "$24.99        2\n",
       "$129.99       2\n",
       "$249.99       1\n",
       "$2,799.99     1\n",
       "$20.99        1\n",
       "$22.99        1\n",
       "$259.99       1\n",
       "$29.99        1\n",
       "$74.99        1\n",
       "$16.99        1\n",
       "$19.99        1\n",
       "$32.00        1\n",
       "$199.99       1\n",
       "$89.99        1\n",
       "$2,899.99     1\n",
       "$149.99       1\n",
       "$169.99       1\n",
       "$154.99       1\n",
       "Name: SalesAmount, dtype: int64"
      ]
     },
     "execution_count": 53,
     "metadata": {},
     "output_type": "execute_result"
    }
   ],
   "source": [
    "#find which product_groupname have returned orders, and count\n",
    "was_returned.SalesAmount.value_counts()"
   ]
  },
  {
   "cell_type": "markdown",
   "metadata": {},
   "source": [
    "## Start of Analysis for Regional Sales"
   ]
  },
  {
   "cell_type": "code",
   "execution_count": 58,
   "metadata": {},
   "outputs": [],
   "source": [
    "# compare regional sales, probably by year\n",
    "df_2012 = df.loc[df['FiscalYear'] == 2012]\n",
    "df_2013 = df.loc[df['FiscalYear'] == 2013]"
   ]
  },
  {
   "cell_type": "code",
   "execution_count": 59,
   "metadata": {},
   "outputs": [
    {
     "data": {
      "text/html": [
       "<div>\n",
       "<style scoped>\n",
       "    .dataframe tbody tr th:only-of-type {\n",
       "        vertical-align: middle;\n",
       "    }\n",
       "\n",
       "    .dataframe tbody tr th {\n",
       "        vertical-align: top;\n",
       "    }\n",
       "\n",
       "    .dataframe thead th {\n",
       "        text-align: right;\n",
       "    }\n",
       "</style>\n",
       "<table border=\"1\" class=\"dataframe\">\n",
       "  <thead>\n",
       "    <tr style=\"text-align: right;\">\n",
       "      <th></th>\n",
       "      <th>SalesOrderNumber</th>\n",
       "      <th>FiscalYear</th>\n",
       "      <th>FiscalQuarter</th>\n",
       "      <th>SalesTerritoryRegion</th>\n",
       "      <th>ProductCategoryName</th>\n",
       "      <th>ProductSubcategoryName</th>\n",
       "      <th>ProductGroupName</th>\n",
       "      <th>OrderStatus</th>\n",
       "      <th>OrderQuantity</th>\n",
       "      <th>UnitPrice</th>\n",
       "      <th>Profit</th>\n",
       "      <th>SalesAmount</th>\n",
       "      <th>Return</th>\n",
       "    </tr>\n",
       "  </thead>\n",
       "  <tbody>\n",
       "    <tr>\n",
       "      <th>0</th>\n",
       "      <td>SO44243</td>\n",
       "      <td>2012</td>\n",
       "      <td>1</td>\n",
       "      <td>China</td>\n",
       "      <td>Gaming Gear</td>\n",
       "      <td>Apparel</td>\n",
       "      <td>Accessories</td>\n",
       "      <td>Shipped</td>\n",
       "      <td>1</td>\n",
       "      <td>20.99</td>\n",
       "      <td>$17.98</td>\n",
       "      <td>$20.99</td>\n",
       "      <td>False</td>\n",
       "    </tr>\n",
       "    <tr>\n",
       "      <th>1</th>\n",
       "      <td>SO43808</td>\n",
       "      <td>2012</td>\n",
       "      <td>1</td>\n",
       "      <td>Germany</td>\n",
       "      <td>Gaming Gear</td>\n",
       "      <td>Apparel</td>\n",
       "      <td>Accessories</td>\n",
       "      <td>Shipped</td>\n",
       "      <td>1</td>\n",
       "      <td>20.99</td>\n",
       "      <td>$17.98</td>\n",
       "      <td>$20.99</td>\n",
       "      <td>False</td>\n",
       "    </tr>\n",
       "    <tr>\n",
       "      <th>2</th>\n",
       "      <td>SO44204</td>\n",
       "      <td>2012</td>\n",
       "      <td>1</td>\n",
       "      <td>Southwest</td>\n",
       "      <td>PC Components</td>\n",
       "      <td>CPU Coolers</td>\n",
       "      <td>Air Coolers</td>\n",
       "      <td>Shipped</td>\n",
       "      <td>1</td>\n",
       "      <td>99.99</td>\n",
       "      <td>$21.41</td>\n",
       "      <td>$99.99</td>\n",
       "      <td>False</td>\n",
       "    </tr>\n",
       "    <tr>\n",
       "      <th>3</th>\n",
       "      <td>SO44173</td>\n",
       "      <td>2012</td>\n",
       "      <td>1</td>\n",
       "      <td>United Kingdom</td>\n",
       "      <td>PC Components</td>\n",
       "      <td>CPU Coolers</td>\n",
       "      <td>Air Coolers</td>\n",
       "      <td>Shipped</td>\n",
       "      <td>1</td>\n",
       "      <td>99.99</td>\n",
       "      <td>$21.41</td>\n",
       "      <td>$99.99</td>\n",
       "      <td>False</td>\n",
       "    </tr>\n",
       "    <tr>\n",
       "      <th>4</th>\n",
       "      <td>SO43750</td>\n",
       "      <td>2012</td>\n",
       "      <td>1</td>\n",
       "      <td>Australia</td>\n",
       "      <td>Gaming Gear</td>\n",
       "      <td>Apparel</td>\n",
       "      <td>Apparel</td>\n",
       "      <td>Shipped</td>\n",
       "      <td>1</td>\n",
       "      <td>24.99</td>\n",
       "      <td>$8.39</td>\n",
       "      <td>$24.99</td>\n",
       "      <td>False</td>\n",
       "    </tr>\n",
       "  </tbody>\n",
       "</table>\n",
       "</div>"
      ],
      "text/plain": [
       "  SalesOrderNumber  FiscalYear  FiscalQuarter SalesTerritoryRegion  \\\n",
       "0          SO44243        2012              1                China   \n",
       "1          SO43808        2012              1              Germany   \n",
       "2          SO44204        2012              1            Southwest   \n",
       "3          SO44173        2012              1       United Kingdom   \n",
       "4          SO43750        2012              1            Australia   \n",
       "\n",
       "  ProductCategoryName ProductSubcategoryName ProductGroupName OrderStatus  \\\n",
       "0         Gaming Gear                Apparel      Accessories     Shipped   \n",
       "1         Gaming Gear                Apparel      Accessories     Shipped   \n",
       "2       PC Components            CPU Coolers      Air Coolers     Shipped   \n",
       "3       PC Components            CPU Coolers      Air Coolers     Shipped   \n",
       "4         Gaming Gear                Apparel          Apparel     Shipped   \n",
       "\n",
       "   OrderQuantity  UnitPrice   Profit SalesAmount  Return  \n",
       "0              1      20.99  $17.98      $20.99    False  \n",
       "1              1      20.99  $17.98      $20.99    False  \n",
       "2              1      99.99  $21.41      $99.99    False  \n",
       "3              1      99.99  $21.41      $99.99    False  \n",
       "4              1      24.99   $8.39      $24.99    False  "
      ]
     },
     "execution_count": 59,
     "metadata": {},
     "output_type": "execute_result"
    }
   ],
   "source": [
    "df_2012.head()"
   ]
  },
  {
   "cell_type": "code",
   "execution_count": 60,
   "metadata": {},
   "outputs": [
    {
     "data": {
      "text/html": [
       "<div>\n",
       "<style scoped>\n",
       "    .dataframe tbody tr th:only-of-type {\n",
       "        vertical-align: middle;\n",
       "    }\n",
       "\n",
       "    .dataframe tbody tr th {\n",
       "        vertical-align: top;\n",
       "    }\n",
       "\n",
       "    .dataframe thead th {\n",
       "        text-align: right;\n",
       "    }\n",
       "</style>\n",
       "<table border=\"1\" class=\"dataframe\">\n",
       "  <thead>\n",
       "    <tr style=\"text-align: right;\">\n",
       "      <th></th>\n",
       "      <th>SalesOrderNumber</th>\n",
       "      <th>FiscalYear</th>\n",
       "      <th>FiscalQuarter</th>\n",
       "      <th>SalesTerritoryRegion</th>\n",
       "      <th>ProductCategoryName</th>\n",
       "      <th>ProductSubcategoryName</th>\n",
       "      <th>ProductGroupName</th>\n",
       "      <th>OrderStatus</th>\n",
       "      <th>OrderQuantity</th>\n",
       "      <th>UnitPrice</th>\n",
       "      <th>Profit</th>\n",
       "      <th>SalesAmount</th>\n",
       "      <th>Return</th>\n",
       "    </tr>\n",
       "  </thead>\n",
       "  <tbody>\n",
       "    <tr>\n",
       "      <th>2206</th>\n",
       "      <td>SO46754</td>\n",
       "      <td>2013</td>\n",
       "      <td>1</td>\n",
       "      <td>China</td>\n",
       "      <td>Gaming Gear</td>\n",
       "      <td>Apparel</td>\n",
       "      <td>Accessories</td>\n",
       "      <td>Shipped</td>\n",
       "      <td>1</td>\n",
       "      <td>20.99</td>\n",
       "      <td>$17.98</td>\n",
       "      <td>$20.99</td>\n",
       "      <td>False</td>\n",
       "    </tr>\n",
       "    <tr>\n",
       "      <th>2207</th>\n",
       "      <td>SO47212</td>\n",
       "      <td>2013</td>\n",
       "      <td>1</td>\n",
       "      <td>China</td>\n",
       "      <td>Gaming Gear</td>\n",
       "      <td>Apparel</td>\n",
       "      <td>Accessories</td>\n",
       "      <td>Shipped</td>\n",
       "      <td>1</td>\n",
       "      <td>20.99</td>\n",
       "      <td>$17.98</td>\n",
       "      <td>$20.99</td>\n",
       "      <td>False</td>\n",
       "    </tr>\n",
       "    <tr>\n",
       "      <th>2208</th>\n",
       "      <td>SO47286</td>\n",
       "      <td>2013</td>\n",
       "      <td>1</td>\n",
       "      <td>Germany</td>\n",
       "      <td>Gaming Gear</td>\n",
       "      <td>Apparel</td>\n",
       "      <td>Accessories</td>\n",
       "      <td>Shipped</td>\n",
       "      <td>1</td>\n",
       "      <td>20.99</td>\n",
       "      <td>$17.98</td>\n",
       "      <td>$20.99</td>\n",
       "      <td>False</td>\n",
       "    </tr>\n",
       "    <tr>\n",
       "      <th>2209</th>\n",
       "      <td>SO46883</td>\n",
       "      <td>2013</td>\n",
       "      <td>1</td>\n",
       "      <td>Southwest</td>\n",
       "      <td>Gaming Gear</td>\n",
       "      <td>Apparel</td>\n",
       "      <td>Accessories</td>\n",
       "      <td>Shipped</td>\n",
       "      <td>1</td>\n",
       "      <td>20.99</td>\n",
       "      <td>$17.98</td>\n",
       "      <td>$20.99</td>\n",
       "      <td>False</td>\n",
       "    </tr>\n",
       "    <tr>\n",
       "      <th>2210</th>\n",
       "      <td>SO47119</td>\n",
       "      <td>2013</td>\n",
       "      <td>1</td>\n",
       "      <td>United Kingdom</td>\n",
       "      <td>Gaming Gear</td>\n",
       "      <td>Apparel</td>\n",
       "      <td>Accessories</td>\n",
       "      <td>Shipped</td>\n",
       "      <td>1</td>\n",
       "      <td>20.99</td>\n",
       "      <td>$17.98</td>\n",
       "      <td>$20.99</td>\n",
       "      <td>False</td>\n",
       "    </tr>\n",
       "  </tbody>\n",
       "</table>\n",
       "</div>"
      ],
      "text/plain": [
       "     SalesOrderNumber  FiscalYear  FiscalQuarter SalesTerritoryRegion  \\\n",
       "2206          SO46754        2013              1                China   \n",
       "2207          SO47212        2013              1                China   \n",
       "2208          SO47286        2013              1              Germany   \n",
       "2209          SO46883        2013              1            Southwest   \n",
       "2210          SO47119        2013              1       United Kingdom   \n",
       "\n",
       "     ProductCategoryName ProductSubcategoryName ProductGroupName OrderStatus  \\\n",
       "2206         Gaming Gear                Apparel      Accessories     Shipped   \n",
       "2207         Gaming Gear                Apparel      Accessories     Shipped   \n",
       "2208         Gaming Gear                Apparel      Accessories     Shipped   \n",
       "2209         Gaming Gear                Apparel      Accessories     Shipped   \n",
       "2210         Gaming Gear                Apparel      Accessories     Shipped   \n",
       "\n",
       "      OrderQuantity  UnitPrice   Profit SalesAmount  Return  \n",
       "2206              1      20.99  $17.98      $20.99    False  \n",
       "2207              1      20.99  $17.98      $20.99    False  \n",
       "2208              1      20.99  $17.98      $20.99    False  \n",
       "2209              1      20.99  $17.98      $20.99    False  \n",
       "2210              1      20.99  $17.98      $20.99    False  "
      ]
     },
     "execution_count": 60,
     "metadata": {},
     "output_type": "execute_result"
    }
   ],
   "source": [
    "df_2013.head()"
   ]
  },
  {
   "cell_type": "markdown",
   "metadata": {},
   "source": [
    "## What Data I would like to Explore\n",
    "<p>\n",
    "Example 1: <br>\n",
    "Given {Ad Placement Region, Ad Cost, Ad Click Rate}, <br>\n",
    "Use {Permutation Test}, <br>\n",
    "To {Predict Click to Conversion Rate of Customer}\n",
    "</p>"
   ]
  },
  {
   "cell_type": "markdown",
   "metadata": {},
   "source": [
    "<p>\n",
    "Example 2: <br>\n",
    "Given {Purchase Date, Delivered Date, Customer Rating}, <br>\n",
    "Use {Customer Rating / (Delivered Date - Purchase Date)}, <br>\n",
    "To {Quantify a numerical value in relation to cusstomer rating and delivery speed}\n",
    "</p>"
   ]
  }
 ],
 "metadata": {
  "interpreter": {
   "hash": "4e835754e575a787bcd6f43046e69573073ee8dcc348352addcbba9b26320a5e"
  },
  "kernelspec": {
   "display_name": "Python 3.8.5 64-bit",
   "language": "python",
   "name": "python3"
  },
  "language_info": {
   "codemirror_mode": {
    "name": "ipython",
    "version": 3
   },
   "file_extension": ".py",
   "mimetype": "text/x-python",
   "name": "python",
   "nbconvert_exporter": "python",
   "pygments_lexer": "ipython3",
   "version": "3.8.5"
  },
  "orig_nbformat": 4
 },
 "nbformat": 4,
 "nbformat_minor": 2
}
