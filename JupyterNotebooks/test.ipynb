{
 "cells": [
  {
   "cell_type": "code",
   "execution_count": null,
   "source": [
    "#import files\r\n",
    "import pandas as pd\r\n",
    "import numpy as np\r\n",
    "import seaborn as sns\r\n",
    "\r\n",
    "import matplotlib.pyplot as plt\r\n",
    "import matplotlib.mlab as mlab\r\n",
    "import matplotlib\r\n",
    "plt.style.use('ggplot')\r\n",
    "from matplotlib.pyplot import figure\r\n",
    "\r\n",
    "%matplotlib inline\r\n",
    "matplotlib.rcParams['figure.figsize'] = (12,8)\r\n",
    "\r\n",
    "#read in data \r\n",
    "df = pd.read('')"
   ],
   "outputs": [],
   "metadata": {}
  }
 ],
 "metadata": {
  "orig_nbformat": 4,
  "language_info": {
   "name": "python"
  }
 },
 "nbformat": 4,
 "nbformat_minor": 2
}