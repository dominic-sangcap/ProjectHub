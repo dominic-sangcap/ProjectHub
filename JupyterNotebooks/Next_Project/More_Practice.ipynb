{
 "cells": [
  {
   "cell_type": "markdown",
   "metadata": {},
   "source": [
    "## Designing a hypothesis test"
   ]
  },
  {
   "cell_type": "code",
   "execution_count": 2,
   "metadata": {},
   "outputs": [],
   "source": [
    "## help('insert code')\n",
    "## can tell user what a function does\n",
    "\n",
    "# practice slicing\n",
    "# df[['coulmn_name', 'other_column_name']].head()\n",
    "\n",
    "# dateframe has brackets\n",
    "# df.loc[:, ['column_name']]\n",
    "\n",
    "# panda series has no brackets\n",
    "# df.loc[:, 'column_name']\n",
    "\n",
    "# export dataframes to csv/excel file\n",
    "# df.to_csv(path_or_buf='directory/file_name.csv', index = False)\n",
    "# df.to_excel(excel_writer='directory/file_name.xsls', index = False)"
   ]
  },
  {
   "cell_type": "code",
   "execution_count": 17,
   "metadata": {},
   "outputs": [],
   "source": [
    "# import packages necessary for project\n",
    "import pandas as pd\n",
    "import matplotlib.pyplot as plt\n",
    "import seaborn as sn\n",
    "import numpy as np"
   ]
  },
  {
   "cell_type": "code",
   "execution_count": 18,
   "metadata": {},
   "outputs": [],
   "source": [
    "#import dataset from csv\n",
    "avocado_info = pd.read_csv(\"avocado_info.csv\")"
   ]
  },
  {
   "cell_type": "code",
   "execution_count": 19,
   "metadata": {},
   "outputs": [
    {
     "data": {
      "text/plain": [
       "['Growth Duration', 'Fertilizer']"
      ]
     },
     "execution_count": 19,
     "metadata": {},
     "output_type": "execute_result"
    }
   ],
   "source": [
    "# avocado info is a sample dataframe in pandas\n",
    "list(avocado_info.columns.values)"
   ]
  },
  {
   "cell_type": "code",
   "execution_count": null,
   "metadata": {},
   "outputs": [],
   "source": [
    "#TURN this into markdown, change code base to more accurate data representation, 1174 rows x (range from 100 - 350, weigthed in 245 - 285 range)\n",
    "#null hypothesis - does not state association in variables, merely chance\n",
    "#ex. In this sample data set, on average, avocado trees that received fertilizer took the same period of time to grow as those that did not recieve fertilizer\n",
    "#alternative hypothesis - attributes trends observed in data to associations between variables\n",
    "#ex. The distribution of growth duration of avocado trees that recieved fertilizer is different from that of avocado trees that did not recieve fertilizer.\n",
    "#ex. Also avocado trees that recieved fertilizer took a shorter period of tmie to gro than thos that did not recieve fertilizer."
   ]
  },
  {
   "cell_type": "code",
   "execution_count": 20,
   "metadata": {},
   "outputs": [],
   "source": [
    "#create two subset of data, one with fertilized avocados, and one with not fertilized avocado\n",
    "fertilized = avocado_info.loc[avocado_info['Fertilizer'] == True]\n",
    "\n",
    "not_fertilized = avocado_info.loc[avocado_info['Fertilizer'] == False]"
   ]
  },
  {
   "cell_type": "code",
   "execution_count": 25,
   "metadata": {},
   "outputs": [
    {
     "data": {
      "image/png": "[encoded data removed]",
      "text/plain": [
       "<Figure size 432x288 with 1 Axes>"
      ]
     },
     "metadata": {
      "needs_background": "light"
     },
     "output_type": "display_data"
    }
   ],
   "source": [
    "#create overlay histograms\n",
    "sn.histplot(fertilized['Growth Duration'], kde = False, label = 'Fertilized', color='red')\n",
    "\n",
    "sn.histplot(not_fertilized['Growth Duration'], kde = False, label = 'Not Fertilized')\n",
    "\n",
    "#legend as a key for which distribution\n",
    "plt.legend()\n",
    "\n",
    "plt.show()"
   ]
  },
  {
   "cell_type": "code",
   "execution_count": null,
   "metadata": {},
   "outputs": [],
   "source": [
    "#Test statistic - use: (avg growing time of trees that recieved fertilizer) minus (avg growing time of trees that did not recieve fertilizer) \n",
    "#smaller value mean alternative hypo is more supportive, while larger value indicates null hypo is supported\n"
   ]
  },
  {
   "cell_type": "markdown",
   "metadata": {},
   "source": [
    "### Now do a permutation test"
   ]
  },
  {
   "cell_type": "code",
   "execution_count": 27,
   "metadata": {},
   "outputs": [
    {
     "data": {
      "text/plain": [
       "-18.443143812709025"
      ]
     },
     "execution_count": 27,
     "metadata": {},
     "output_type": "execute_result"
    }
   ],
   "source": [
    "# take mean of fertilized growth, and subtract it from non-fertilized growth\n",
    "## using same fertilized and non_fertilized value\n",
    "observed_test_stat = np.mean(fertilized['Growth Duration']) - np.mean(not_fertilized['Growth Duration'])\n",
    "\n",
    "observed_test_stat"
   ]
  },
  {
   "cell_type": "code",
   "execution_count": 28,
   "metadata": {},
   "outputs": [
    {
     "data": {
      "text/plain": [
       "20    75\n",
       "13    85\n",
       "27    70\n",
       "79    22\n",
       "74    24\n",
       "      ..\n",
       "60    32\n",
       "44    55\n",
       "15    83\n",
       "58    37\n",
       "55    45\n",
       "Name: Growth Duration, Length: 98, dtype: int64"
      ]
     },
     "execution_count": 28,
     "metadata": {},
     "output_type": "execute_result"
    }
   ],
   "source": [
    "avocado_info['Growth Duration'].sample(frac = 1)"
   ]
  },
  {
   "cell_type": "code",
   "execution_count": 29,
   "metadata": {},
   "outputs": [
    {
     "data": {
      "text/html": [
       "<div>\n",
       "<style scoped>\n",
       "    .dataframe tbody tr th:only-of-type {\n",
       "        vertical-align: middle;\n",
       "    }\n",
       "\n",
       "    .dataframe tbody tr th {\n",
       "        vertical-align: top;\n",
       "    }\n",
       "\n",
       "    .dataframe thead th {\n",
       "        text-align: right;\n",
       "    }\n",
       "</style>\n",
       "<table border=\"1\" class=\"dataframe\">\n",
       "  <thead>\n",
       "    <tr style=\"text-align: right;\">\n",
       "      <th></th>\n",
       "      <th>index</th>\n",
       "      <th>Growth Duration</th>\n",
       "    </tr>\n",
       "  </thead>\n",
       "  <tbody>\n",
       "    <tr>\n",
       "      <th>0</th>\n",
       "      <td>31</td>\n",
       "      <td>66</td>\n",
       "    </tr>\n",
       "    <tr>\n",
       "      <th>1</th>\n",
       "      <td>88</td>\n",
       "      <td>16</td>\n",
       "    </tr>\n",
       "    <tr>\n",
       "      <th>2</th>\n",
       "      <td>52</td>\n",
       "      <td>50</td>\n",
       "    </tr>\n",
       "    <tr>\n",
       "      <th>3</th>\n",
       "      <td>60</td>\n",
       "      <td>32</td>\n",
       "    </tr>\n",
       "    <tr>\n",
       "      <th>4</th>\n",
       "      <td>16</td>\n",
       "      <td>83</td>\n",
       "    </tr>\n",
       "    <tr>\n",
       "      <th>...</th>\n",
       "      <td>...</td>\n",
       "      <td>...</td>\n",
       "    </tr>\n",
       "    <tr>\n",
       "      <th>93</th>\n",
       "      <td>43</td>\n",
       "      <td>56</td>\n",
       "    </tr>\n",
       "    <tr>\n",
       "      <th>94</th>\n",
       "      <td>77</td>\n",
       "      <td>22</td>\n",
       "    </tr>\n",
       "    <tr>\n",
       "      <th>95</th>\n",
       "      <td>45</td>\n",
       "      <td>55</td>\n",
       "    </tr>\n",
       "    <tr>\n",
       "      <th>96</th>\n",
       "      <td>32</td>\n",
       "      <td>65</td>\n",
       "    </tr>\n",
       "    <tr>\n",
       "      <th>97</th>\n",
       "      <td>18</td>\n",
       "      <td>78</td>\n",
       "    </tr>\n",
       "  </tbody>\n",
       "</table>\n",
       "<p>98 rows × 2 columns</p>\n",
       "</div>"
      ],
      "text/plain": [
       "    index  Growth Duration\n",
       "0      31               66\n",
       "1      88               16\n",
       "2      52               50\n",
       "3      60               32\n",
       "4      16               83\n",
       "..    ...              ...\n",
       "93     43               56\n",
       "94     77               22\n",
       "95     45               55\n",
       "96     32               65\n",
       "97     18               78\n",
       "\n",
       "[98 rows x 2 columns]"
      ]
     },
     "execution_count": 29,
     "metadata": {},
     "output_type": "execute_result"
    }
   ],
   "source": [
    "avocado_info['Growth Duration'].sample(frac = 1).reset_index()"
   ]
  },
  {
   "cell_type": "code",
   "execution_count": 31,
   "metadata": {},
   "outputs": [
    {
     "data": {
      "text/plain": [
       "0     27\n",
       "1     16\n",
       "2     18\n",
       "3     28\n",
       "4     91\n",
       "      ..\n",
       "93    51\n",
       "94    98\n",
       "95    55\n",
       "96    23\n",
       "97    83\n",
       "Name: Growth Duration, Length: 98, dtype: int64"
      ]
     },
     "execution_count": 31,
     "metadata": {},
     "output_type": "execute_result"
    }
   ],
   "source": [
    "avocado_info['Growth Duration'].sample(frac = 1).reset_index(drop  = True)"
   ]
  },
  {
   "cell_type": "code",
   "execution_count": 32,
   "metadata": {},
   "outputs": [],
   "source": [
    "# create permutation function\n",
    "def perm(data):\n",
    "    return data.sample(frac = 1).reset_index(drop  = True)"
   ]
  },
  {
   "cell_type": "code",
   "execution_count": 34,
   "metadata": {},
   "outputs": [],
   "source": [
    "# simulate data over numerous runs\n",
    "sim_test_stat = np.array([])\n",
    "\n",
    "reps = 10000\n",
    "\n",
    "for i in range(reps):\n",
    "    perm_info = perm(avocado_info['Growth Duration'])\n",
    "\n",
    "    df = pd.DataFrame({'Permuted Duration': perm_info, 'Fertilizer': avocado_info['Fertilizer']})\n",
    "\n",
    "    fertilized = df.loc[df['Fertilizer'] == True, 'Permuted Duration']\n",
    "    not_fertilized = df.loc[df['Fertilizer'] == False, 'Permuted Duration']\n",
    "\n",
    "    stat = np.mean(fertilized) - np.mean(not_fertilized)\n",
    "\n",
    "    sim_test_stat = np.append(sim_test_stat, stat)"
   ]
  },
  {
   "cell_type": "code",
   "execution_count": 35,
   "metadata": {},
   "outputs": [
    {
     "data": {
      "text/plain": [
       "array([-0.90802676,  2.53344482,  4.9916388 , ..., -1.23578595,\n",
       "        6.91722408, -0.33444816])"
      ]
     },
     "execution_count": 35,
     "metadata": {},
     "output_type": "execute_result"
    }
   ],
   "source": [
    "sim_test_stat"
   ]
  },
  {
   "cell_type": "code",
   "execution_count": 36,
   "metadata": {},
   "outputs": [],
   "source": [
    "p_value = np.count_nonzero(sim_test_stat <= observed_test_stat) / reps"
   ]
  },
  {
   "cell_type": "code",
   "execution_count": 37,
   "metadata": {},
   "outputs": [
    {
     "data": {
      "text/plain": [
       "0.0005"
      ]
     },
     "execution_count": 37,
     "metadata": {},
     "output_type": "execute_result"
    }
   ],
   "source": [
    "p_value"
   ]
  },
  {
   "cell_type": "code",
   "execution_count": null,
   "metadata": {},
   "outputs": [],
   "source": [
    "### use a predetermined p-value cutoff typically 5% ro 1%, if p_value is under p-value cutff, reject the null hypothesis...\n",
    "### therefore can conclude observed value confirms alternative hypothesis"
   ]
  },
  {
   "cell_type": "markdown",
   "metadata": {},
   "source": [
    "### Confidence interval"
   ]
  },
  {
   "cell_type": "code",
   "execution_count": 38,
   "metadata": {},
   "outputs": [
    {
     "data": {
      "text/plain": [
       "array([26, 11, 45, 20, 28, 50, 98, 17, 21,  7, 70, 20, 55, 50, 35, 26, 17,\n",
       "       28, 21, 45, 76, 57,  1, 11, 40, 27, 23, 68, 76, 26, 66, 17, 28, 55,\n",
       "       62, 66, 85, 66, 28, 28, 17, 45, 57, 66, 87, 76], dtype=int64)"
      ]
     },
     "execution_count": 38,
     "metadata": {},
     "output_type": "execute_result"
    }
   ],
   "source": [
    "#using fertilized and non_fertilized values from before\n",
    "np.random.choice(fertilized, size = len(fertilized))"
   ]
  },
  {
   "cell_type": "code",
   "execution_count": 39,
   "metadata": {},
   "outputs": [
    {
     "data": {
      "text/plain": [
       "array([83, 55, 37, 16, 72, 90, 51, 88, 17, 61, 31, 70, 63, 26, 64, 90, 31,\n",
       "       32,  9, 97, 88, 30, 26, 22, 31, 83, 78, 61, 30, 83, 57, 26, 22, 83,\n",
       "       51, 14, 80, 56, 57, 32, 57, 70, 47, 97, 51, 22, 37, 64, 57, 16, 65,\n",
       "       51], dtype=int64)"
      ]
     },
     "execution_count": 39,
     "metadata": {},
     "output_type": "execute_result"
    }
   ],
   "source": [
    "np.random.choice(not_fertilized, size = len(not_fertilized))"
   ]
  },
  {
   "cell_type": "code",
   "execution_count": 40,
   "metadata": {},
   "outputs": [],
   "source": [
    "def resample(orig_sample):\n",
    "    return np.random.choice(orig_sample, size = len(orig_sample))"
   ]
  },
  {
   "cell_type": "code",
   "execution_count": 44,
   "metadata": {},
   "outputs": [],
   "source": [
    "def bootstrap(orig_sample, reps):\n",
    "    means = np.array([])\n",
    "\n",
    "    for i in range(reps):\n",
    "        new_sample = resample(orig_sample)\n",
    "\n",
    "        new_mean = np.mean(new_sample)\n",
    "\n",
    "        means = np.append(means, new_mean)\n",
    "\n",
    "    return means"
   ]
  },
  {
   "cell_type": "code",
   "execution_count": 45,
   "metadata": {},
   "outputs": [],
   "source": [
    "fertilized_means = bootstrap(fertilized, 10000)\n",
    "\n",
    "not_fertilized_means = bootstrap(not_fertilized, 10000)\n",
    "\n",
    "estimates = fertilized_means - not_fertilized_means"
   ]
  },
  {
   "cell_type": "code",
   "execution_count": 46,
   "metadata": {},
   "outputs": [
    {
     "data": {
      "text/plain": [
       "array([-2.61036789,  1.17725753, -9.18729097, ...,  6.14381271,\n",
       "        2.6680602 ,  3.49832776])"
      ]
     },
     "execution_count": 46,
     "metadata": {},
     "output_type": "execute_result"
    }
   ],
   "source": [
    "estimates"
   ]
  },
  {
   "cell_type": "code",
   "execution_count": 47,
   "metadata": {},
   "outputs": [
    {
     "data": {
      "image/png": "[encoded data removed]",
      "text/plain": [
       "<Figure size 432x288 with 1 Axes>"
      ]
     },
     "metadata": {
      "needs_background": "light"
     },
     "output_type": "display_data"
    }
   ],
   "source": [
    "sn.histplot(estimates, kde = False)\n",
    "plt.show()"
   ]
  },
  {
   "cell_type": "code",
   "execution_count": 48,
   "metadata": {},
   "outputs": [
    {
     "data": {
      "text/plain": [
       "(-11.165760869565217, 10.61486204013378)"
      ]
     },
     "execution_count": 48,
     "metadata": {},
     "output_type": "execute_result"
    }
   ],
   "source": [
    "#check confidence intervals\n",
    "(np.percentile(estimates, 2.5), np.percentile(estimates, 97.5))"
   ]
  }
 ],
 "metadata": {
  "interpreter": {
   "hash": "4e835754e575a787bcd6f43046e69573073ee8dcc348352addcbba9b26320a5e"
  },
  "kernelspec": {
   "display_name": "Python 3.8.5 64-bit",
   "name": "python3"
  },
  "language_info": {
   "codemirror_mode": {
    "name": "ipython",
    "version": 3
   },
   "file_extension": ".py",
   "mimetype": "text/x-python",
   "name": "python",
   "nbconvert_exporter": "python",
   "pygments_lexer": "ipython3",
   "version": "3.8.5"
  },
  "orig_nbformat": 4
 },
 "nbformat": 4,
 "nbformat_minor": 2
}
