{
 "cells": [
  {
   "cell_type": "markdown",
   "source": [
    "## Changing Cell to Markdown"
   ],
   "metadata": {}
  },
  {
   "cell_type": "code",
   "execution_count": null,
   "source": [
    "## help('insert code')\r\n",
    "## can tell user what a function does\r\n",
    "\r\n",
    "# practice slicing\r\n",
    "df[['coulmn_name', 'other_column_name']].head()\r\n",
    "\r\n",
    "# dateframe has brackets\r\n",
    "df.loc[:, ['column_name']]\r\n",
    "\r\n",
    "# panda series has no brackets\r\n",
    "df.loc[:, 'column_name']\r\n",
    "\r\n",
    "# export dataframes to csv/excel file\r\n",
    "df.to_csv(path_or_buf='directory/file_name.csv', index = False)\r\n",
    "df.to_excel(excel_writer='directory/file_name.xsls', index = False)"
   ],
   "outputs": [],
   "metadata": {}
  }
 ],
 "metadata": {
  "orig_nbformat": 4,
  "language_info": {
   "name": "python"
  }
 },
 "nbformat": 4,
 "nbformat_minor": 2
}